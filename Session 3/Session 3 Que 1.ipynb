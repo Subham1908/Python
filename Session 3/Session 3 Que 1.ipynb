{
 "cells": [
  {
   "cell_type": "code",
   "execution_count": 2,
   "id": "01e93582",
   "metadata": {},
   "outputs": [
    {
     "name": "stdout",
     "output_type": "stream",
     "text": [
      "[24 48 72 96]\n"
     ]
    }
   ],
   "source": [
    "import numpy as np\n",
    "\n",
    "def product_except_self(nums):\n",
    "    n = len(nums)\n",
    "    \n",
    "    \n",
    "    prefix_products = np.ones(n, dtype=int)\n",
    "    suffix_products = np.ones(n, dtype=int)\n",
    "    np.cumprod(nums, out=prefix_products)\n",
    "    np.cumprod(nums[::-1], out=suffix_products[::-1])\n",
    "    answer = prefix_products * suffix_products\n",
    "    \n",
    "    return answer\n",
    "\n",
    "\n",
    "nums = [1, 2, 3, 4]\n",
    "answer = product_except_self(nums)\n",
    "print(answer)\n",
    "\n"
   ]
  },
  {
   "cell_type": "code",
   "execution_count": null,
   "id": "88b04c38",
   "metadata": {},
   "outputs": [],
   "source": []
  }
 ],
 "metadata": {
  "kernelspec": {
   "display_name": "Python 3 (ipykernel)",
   "language": "python",
   "name": "python3"
  },
  "language_info": {
   "codemirror_mode": {
    "name": "ipython",
    "version": 3
   },
   "file_extension": ".py",
   "mimetype": "text/x-python",
   "name": "python",
   "nbconvert_exporter": "python",
   "pygments_lexer": "ipython3",
   "version": "3.10.9"
  }
 },
 "nbformat": 4,
 "nbformat_minor": 5
}
