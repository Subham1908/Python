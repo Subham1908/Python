{
 "cells": [
  {
   "cell_type": "code",
   "execution_count": 6,
   "id": "a226002d",
   "metadata": {},
   "outputs": [
    {
     "name": "stdout",
     "output_type": "stream",
     "text": [
      "Requirement already satisfied: pandas in c:\\users\\yg168vl\\appdata\\local\\anaconda3\\lib\\site-packages (1.5.3)\n",
      "Requirement already satisfied: python-dateutil>=2.8.1 in c:\\users\\yg168vl\\appdata\\local\\anaconda3\\lib\\site-packages (from pandas) (2.8.2)\n",
      "Requirement already satisfied: numpy>=1.21.0 in c:\\users\\yg168vl\\appdata\\local\\anaconda3\\lib\\site-packages (from pandas) (1.23.5)\n",
      "Requirement already satisfied: pytz>=2020.1 in c:\\users\\yg168vl\\appdata\\local\\anaconda3\\lib\\site-packages (from pandas) (2022.7)\n",
      "Requirement already satisfied: six>=1.5 in c:\\users\\yg168vl\\appdata\\local\\anaconda3\\lib\\site-packages (from python-dateutil>=2.8.1->pandas) (1.16.0)\n"
     ]
    }
   ],
   "source": [
    "!pip install pandas\n",
    "\n",
    "\n"
   ]
  },
  {
   "cell_type": "code",
   "execution_count": 32,
   "id": "51579a64",
   "metadata": {},
   "outputs": [
    {
     "name": "stdout",
     "output_type": "stream",
     "text": [
      "          Date rating region        mu     sigma\n",
      "0   14-03-2024     B-    CAN  0.882559  0.882557\n",
      "1   14-03-2024     B-    CAN  0.882557  0.882557\n",
      "2   14-03-2024     B-    CHA  0.999158  0.677167\n",
      "3   14-03-2024     B-    CHA  0.677167  0.677167\n",
      "4   14-03-2024     B-    EGY  0.017326  0.896930\n",
      "5   14-03-2024     B-    EGY  0.896930  0.896930\n",
      "6   14-03-2024     C-    CAN  0.055460  0.368032\n",
      "7   14-03-2024     C-    CAN  0.368032  0.368032\n",
      "8   14-03-2024     C-    CHA  0.235145  0.841430\n",
      "9   14-03-2024     C-    CHA  0.841430  0.841430\n",
      "10  14-03-2024     C-    EGY  0.492574  0.259139\n",
      "11  14-03-2024     C-    EGY  0.259139  0.259139\n",
      "12  14-03-2024     D-    CAN  0.403538  0.742838\n",
      "13  14-03-2024     D-    CAN  0.742838  0.742838\n",
      "14  14-03-2024     D-    CHA  0.244749  0.317593\n",
      "15  14-03-2024     D-    CHA  0.317593  0.317593\n",
      "16  14-03-2024     D-    EGY  0.334887  0.049035\n",
      "17  14-03-2024     D-    EGY  0.049035  0.049035\n",
      "18  14-03-2024     E-    CAN  0.178613  0.264430\n",
      "19  14-03-2024     E-    CAN  0.264430  0.264430\n",
      "20  14-03-2024     E-    CHA  0.378886  0.857886\n",
      "21  14-03-2024     E-    CHA  0.857886  0.857886\n",
      "22  14-03-2024     E-    EGY  0.575343  0.412700\n",
      "23  14-03-2024     E-    EGY  0.412700  0.412700\n"
     ]
    }
   ],
   "source": [
    "import pandas as pd\n",
    "\n",
    "\n",
    "csv_file_path = r'C:\\Users\\YG168VL\\Python training\\Question3\\14-03-2024_Region_mu_sigma_2.csv'\n",
    "df = pd.read_csv(csv_file_path)\n",
    "transformed_data = []\n",
    "region_name = os.path.splitext(os.path.basename(csv_file_path))[0]\n",
    "\n",
    "\n",
    "for index, row in df.iterrows():\n",
    "    rating = row['Rating']\n",
    "    for col in df.columns[1:]:\n",
    "        mu_sigma_values = col.split('_')\n",
    "        region = mu_sigma_values[0]\n",
    "        mu_sigma = mu_sigma_values[1]\n",
    "\n",
    "        mu = row[col]\n",
    "        sigma = row[region + '_sigma']\n",
    "\n",
    "        transformed_data.append({\n",
    "            'Date': '14-03-2024',\n",
    "            'rating': rating,\n",
    "            'region': region,\n",
    "            'mu': mu,\n",
    "            'sigma': sigma\n",
    "        })\n",
    "\n",
    "\n",
    "output_df = pd.DataFrame(transformed_data)\n",
    "\n",
    "\n",
    "print(output_df)\n"
   ]
  },
  {
   "cell_type": "code",
   "execution_count": null,
   "id": "a19bb5b5",
   "metadata": {},
   "outputs": [],
   "source": []
  },
  {
   "cell_type": "code",
   "execution_count": null,
   "id": "fcae01d9",
   "metadata": {},
   "outputs": [],
   "source": []
  }
 ],
 "metadata": {
  "kernelspec": {
   "display_name": "Python 3 (ipykernel)",
   "language": "python",
   "name": "python3"
  },
  "language_info": {
   "codemirror_mode": {
    "name": "ipython",
    "version": 3
   },
   "file_extension": ".py",
   "mimetype": "text/x-python",
   "name": "python",
   "nbconvert_exporter": "python",
   "pygments_lexer": "ipython3",
   "version": "3.10.9"
  }
 },
 "nbformat": 4,
 "nbformat_minor": 5
}
