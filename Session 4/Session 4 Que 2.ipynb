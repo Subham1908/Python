{
 "cells": [
  {
   "cell_type": "code",
   "execution_count": 4,
   "id": "4b201013",
   "metadata": {},
   "outputs": [
    {
     "name": "stdout",
     "output_type": "stream",
     "text": [
      "Requirement already satisfied: yfinance in c:\\users\\yg168vl\\appdata\\local\\anaconda3\\lib\\site-packages (0.2.28)\n",
      "Requirement already satisfied: pandas in c:\\users\\yg168vl\\appdata\\local\\anaconda3\\lib\\site-packages (1.5.3)\n",
      "Requirement already satisfied: numpy in c:\\users\\yg168vl\\appdata\\local\\anaconda3\\lib\\site-packages (1.23.5)\n",
      "Requirement already satisfied: frozendict>=2.3.4 in c:\\users\\yg168vl\\appdata\\local\\anaconda3\\lib\\site-packages (from yfinance) (2.3.8)\n",
      "Requirement already satisfied: beautifulsoup4>=4.11.1 in c:\\users\\yg168vl\\appdata\\local\\anaconda3\\lib\\site-packages (from yfinance) (4.11.1)\n",
      "Requirement already satisfied: multitasking>=0.0.7 in c:\\users\\yg168vl\\appdata\\local\\anaconda3\\lib\\site-packages (from yfinance) (0.0.11)\n",
      "Requirement already satisfied: lxml>=4.9.1 in c:\\users\\yg168vl\\appdata\\local\\anaconda3\\lib\\site-packages (from yfinance) (4.9.1)\n",
      "Requirement already satisfied: requests>=2.31 in c:\\users\\yg168vl\\appdata\\local\\anaconda3\\lib\\site-packages (from yfinance) (2.31.0)\n",
      "Requirement already satisfied: html5lib>=1.1 in c:\\users\\yg168vl\\appdata\\local\\anaconda3\\lib\\site-packages (from yfinance) (1.1)\n",
      "Requirement already satisfied: appdirs>=1.4.4 in c:\\users\\yg168vl\\appdata\\local\\anaconda3\\lib\\site-packages (from yfinance) (1.4.4)\n",
      "Requirement already satisfied: pytz>=2022.5 in c:\\users\\yg168vl\\appdata\\local\\anaconda3\\lib\\site-packages (from yfinance) (2022.7)\n",
      "Requirement already satisfied: python-dateutil>=2.8.1 in c:\\users\\yg168vl\\appdata\\local\\anaconda3\\lib\\site-packages (from pandas) (2.8.2)\n",
      "Requirement already satisfied: soupsieve>1.2 in c:\\users\\yg168vl\\appdata\\local\\anaconda3\\lib\\site-packages (from beautifulsoup4>=4.11.1->yfinance) (2.3.2.post1)\n",
      "Requirement already satisfied: webencodings in c:\\users\\yg168vl\\appdata\\local\\anaconda3\\lib\\site-packages (from html5lib>=1.1->yfinance) (0.5.1)\n",
      "Requirement already satisfied: six>=1.9 in c:\\users\\yg168vl\\appdata\\local\\anaconda3\\lib\\site-packages (from html5lib>=1.1->yfinance) (1.16.0)\n",
      "Requirement already satisfied: charset-normalizer<4,>=2 in c:\\users\\yg168vl\\appdata\\local\\anaconda3\\lib\\site-packages (from requests>=2.31->yfinance) (2.0.4)\n",
      "Requirement already satisfied: certifi>=2017.4.17 in c:\\users\\yg168vl\\appdata\\local\\anaconda3\\lib\\site-packages (from requests>=2.31->yfinance) (2022.12.7)\n",
      "Requirement already satisfied: idna<4,>=2.5 in c:\\users\\yg168vl\\appdata\\local\\anaconda3\\lib\\site-packages (from requests>=2.31->yfinance) (3.4)\n",
      "Requirement already satisfied: urllib3<3,>=1.21.1 in c:\\users\\yg168vl\\appdata\\local\\anaconda3\\lib\\site-packages (from requests>=2.31->yfinance) (1.26.14)\n"
     ]
    }
   ],
   "source": [
    "!pip install yfinance pandas numpy"
   ]
  },
  {
   "cell_type": "code",
   "execution_count": 9,
   "id": "1b7ead24",
   "metadata": {
    "scrolled": false
   },
   "outputs": [
    {
     "name": "stdout",
     "output_type": "stream",
     "text": [
      "[*********************100%%**********************]  3 of 3 completed\n",
      "                                               VaR_99  \\\n",
      "1   AAPL    -0.041679\n",
      "GOOGL   -0.040584\n",
      "META    -0...   \n",
      "2   AAPL    -0.058845\n",
      "GOOGL   -0.057299\n",
      "META    -0...   \n",
      "5   AAPL    -0.094715\n",
      "GOOGL   -0.092226\n",
      "META    -0...   \n",
      "10  AAPL    -0.136056\n",
      "GOOGL   -0.132481\n",
      "META    -0...   \n",
      "\n",
      "                                               VaR_95  \\\n",
      "1   AAPL    -0.029480\n",
      "GOOGL   -0.028706\n",
      "META    -0...   \n",
      "2   AAPL    -0.041781\n",
      "GOOGL   -0.040683\n",
      "META    -0...   \n",
      "5   AAPL    -0.065404\n",
      "GOOGL   -0.063685\n",
      "META    -0...   \n",
      "10  AAPL    -0.092314\n",
      "GOOGL   -0.089888\n",
      "META    -0...   \n",
      "\n",
      "                                               VaR_90  \n",
      "1   AAPL    -0.023013\n",
      "GOOGL   -0.022408\n",
      "META    -0...  \n",
      "2   AAPL    -0.032432\n",
      "GOOGL   -0.031579\n",
      "META    -0...  \n",
      "5   AAPL    -0.051803\n",
      "GOOGL   -0.050441\n",
      "META    -0...  \n",
      "10  AAPL    -0.072753\n",
      "GOOGL   -0.070841\n",
      "META    -0...  \n"
     ]
    }
   ],
   "source": [
    "import yfinance as yf\n",
    "import pandas as pd\n",
    "import numpy as np\n",
    "\n",
    "\n",
    "tickers = ['AAPL', 'META','GOOGL'] \n",
    "start_date = '2013-08-18'\n",
    "end_date = '2023-08-18'\n",
    "\n",
    "data = yf.download(tickers, start=start_date, end=end_date)['Adj Close']\n",
    "\n",
    "df = data.reset_index()\n",
    "\n",
    "log_returns = np.log(df.iloc[:, 1:] / df.iloc[:, 1:].shift(1))\n",
    "\n",
    "\n",
    "confidence_levels = [0.99, 0.95, 0.9]\n",
    "holding_periods = [1, 2, 5, 10]\n",
    "\n",
    "var_results = {}\n",
    "\n",
    "for confidence_level in confidence_levels:\n",
    "    var_results[confidence_level] = []\n",
    "    for holding_period in holding_periods:\n",
    "        var_result = log_returns.std() * np.sqrt(holding_period) * np.percentile(\n",
    "            np.random.normal(0, 1, size=(10_000, log_returns.shape[1])),\n",
    "            (1 - confidence_level) * 100\n",
    "        )\n",
    "        var_results[confidence_level].append(var_result)\n",
    "\n",
    "\n",
    "summary_df = pd.DataFrame(index=holding_periods)\n",
    "\n",
    "for confidence_level, var_data in var_results.items():\n",
    "    column_name = f'VaR_{int(confidence_level * 100)}'  \n",
    "    var_list = []  \n",
    "    for var in var_data:\n",
    "        var_list.append(var)\n",
    "    summary_df[column_name] = var_list  \n",
    "\n",
    "print(summary_df)\n"
   ]
  },
  {
   "cell_type": "code",
   "execution_count": null,
   "id": "07f0807a",
   "metadata": {},
   "outputs": [],
   "source": []
  }
 ],
 "metadata": {
  "kernelspec": {
   "display_name": "Python 3 (ipykernel)",
   "language": "python",
   "name": "python3"
  },
  "language_info": {
   "codemirror_mode": {
    "name": "ipython",
    "version": 3
   },
   "file_extension": ".py",
   "mimetype": "text/x-python",
   "name": "python",
   "nbconvert_exporter": "python",
   "pygments_lexer": "ipython3",
   "version": "3.10.9"
  }
 },
 "nbformat": 4,
 "nbformat_minor": 5
}
