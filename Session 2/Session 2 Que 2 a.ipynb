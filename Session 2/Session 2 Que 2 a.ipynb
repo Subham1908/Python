{
 "cells": [
  {
   "cell_type": "code",
   "execution_count": 2,
   "id": "5fd80e03",
   "metadata": {},
   "outputs": [
    {
     "name": "stdout",
     "output_type": "stream",
     "text": [
      "(<class '__main__.M'>, <class '__main__.B'>, <class '__main__.A'>, <class '__main__.X'>, <class '__main__.Y'>, <class '__main__.Z'>, <class 'object'>)\n"
     ]
    }
   ],
   "source": [
    "class X(object):pass\n",
    "class Y(object): pass\n",
    "class Z(object): pass\n",
    "class A(X,Y): pass\n",
    "class B(Y,Z):pass\n",
    "class M(B,A,Z):pass\n",
    "print (M.__mro__)"
   ]
  },
  {
   "cell_type": "code",
   "execution_count": null,
   "id": "3d78c3a9",
   "metadata": {},
   "outputs": [],
   "source": []
  }
 ],
 "metadata": {
  "kernelspec": {
   "display_name": "Python 3 (ipykernel)",
   "language": "python",
   "name": "python3"
  },
  "language_info": {
   "codemirror_mode": {
    "name": "ipython",
    "version": 3
   },
   "file_extension": ".py",
   "mimetype": "text/x-python",
   "name": "python",
   "nbconvert_exporter": "python",
   "pygments_lexer": "ipython3",
   "version": "3.10.9"
  }
 },
 "nbformat": 4,
 "nbformat_minor": 5
}
