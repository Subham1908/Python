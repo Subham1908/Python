{
 "cells": [
  {
   "cell_type": "code",
   "execution_count": 2,
   "id": "ec99d402",
   "metadata": {},
   "outputs": [
    {
     "name": "stdout",
     "output_type": "stream",
     "text": [
      ">>> 1+2\n",
      "Error: Invalid input. Input must consist of three elements: number, operator, number.\n",
      ">>> 1 + 2\n",
      "3.0\n",
      ">>> 1 / 2\n",
      "Error: Invalid operator. Operator must be '+' or '-'.\n",
      ">>> quit\n"
     ]
    }
   ],
   "source": [
    "class FormulaError(Exception):\n",
    "    pass\n",
    "\n",
    "def parse_input(user_input):\n",
    "    elements = user_input.split()\n",
    "    if len(elements) != 3:\n",
    "        raise FormulaError(\"Invalid input. Input must consist of three elements: number, operator, number.\")\n",
    "    \n",
    "    n1_str, op, n2_str = elements\n",
    "\n",
    "    try:\n",
    "        n1 = float(n1_str)\n",
    "        n2 = float(n2_str)\n",
    "    except ValueError:\n",
    "        raise FormulaError(\"Invalid input. Numbers must be valid float values.\")\n",
    "\n",
    "    if op not in ['+', '-']:\n",
    "        raise FormulaError(\"Invalid operator. Operator must be '+' or '-'.\")\n",
    "\n",
    "    return n1, op, n2\n",
    "\n",
    "def calculate(n1, op, n2):\n",
    "    if op == '+':\n",
    "        return n1 + n2\n",
    "    elif op == '-':\n",
    "        return n1 - n2\n",
    "\n",
    "if __name__ == \"__main__\":\n",
    "    while True:\n",
    "        user_input = input('>>> ')\n",
    "        if user_input == 'quit':\n",
    "            break\n",
    "\n",
    "        try:\n",
    "            n1, op, n2 = parse_input(user_input)\n",
    "            result = calculate(n1,op,n2)\n",
    "            print(result)\n",
    "        except FormulaError as e:\n",
    "            print(f\"Error: {e}\")\n"
   ]
  },
  {
   "cell_type": "code",
   "execution_count": null,
   "id": "104b81f4",
   "metadata": {},
   "outputs": [],
   "source": []
  }
 ],
 "metadata": {
  "kernelspec": {
   "display_name": "Python 3 (ipykernel)",
   "language": "python",
   "name": "python3"
  },
  "language_info": {
   "codemirror_mode": {
    "name": "ipython",
    "version": 3
   },
   "file_extension": ".py",
   "mimetype": "text/x-python",
   "name": "python",
   "nbconvert_exporter": "python",
   "pygments_lexer": "ipython3",
   "version": "3.10.9"
  }
 },
 "nbformat": 4,
 "nbformat_minor": 5
}
