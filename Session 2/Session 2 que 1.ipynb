{
 "cells": [
  {
   "cell_type": "code",
   "execution_count": 2,
   "id": "69e4c569",
   "metadata": {},
   "outputs": [
    {
     "name": "stdout",
     "output_type": "stream",
     "text": [
      "2 1\n",
      "6 9\n",
      "8.00+10.00i\n",
      "-4.00-8.00i\n",
      "3.00+24.00i\n",
      "0.18-0.10i\n",
      "2.24+0.00i\n",
      "10.82+0.00i\n"
     ]
    }
   ],
   "source": [
    "# -*- coding: utf-8 -*-\n",
    "\"\"\"\n",
    "Created on Thu Aug  3 15:17:05 2023\n",
    "\n",
    "@author: YG168VL\n",
    "\"\"\"\n",
    "\n",
    "import math\n",
    "\n",
    "class ComplexNumber:\n",
    "    def __init__(self, real, imag):\n",
    "        self.real = real\n",
    "        self.imag = imag\n",
    "\n",
    "    def __add__(self, other):\n",
    "        return ComplexNumber(self.real + other.real, self.imag + other.imag)\n",
    "\n",
    "    def __sub__(self, other):\n",
    "        return ComplexNumber(self.real - other.real, self.imag - other.imag)\n",
    "\n",
    "    def __mul__(self, other):\n",
    "        return ComplexNumber(self.real * other.real - self.imag * other.imag,\n",
    "                             self.real * other.imag + self.imag * other.real)\n",
    "\n",
    "    def __truediv__(self, other):\n",
    "        denominator = other.real**2 + other.imag**2\n",
    "        real_part = (self.real * other.real + self.imag * other.imag) / denominator\n",
    "        imag_part = (self.imag * other.real - self.real * other.imag) / denominator\n",
    "        return ComplexNumber(real_part, imag_part)\n",
    "\n",
    "    def modulus(self):\n",
    "        return math.sqrt(self.real**2 + self.imag**2)\n",
    "\n",
    "    def __str__(self):\n",
    "        if self.imag == 0:\n",
    "            return \"{:.2f}+0.00i\".format(self.real)\n",
    "        elif self.real == 0:\n",
    "            return \"0.00{:+.2f}i\".format(self.imag)\n",
    "        elif self.imag > 0:\n",
    "            return \"{:.2f}+{:.2f}i\".format(self.real, self.imag)\n",
    "        else:\n",
    "            return \"{:.2f}{:.2f}i\".format(self.real, self.imag)\n",
    "\n",
    "# Sample Input\n",
    "a, b = map(float, input().split())\n",
    "c, d = map(float, input().split())\n",
    "\n",
    "# Create ComplexNumber objects\n",
    "C = ComplexNumber(a, b)\n",
    "D = ComplexNumber(c, d)\n",
    "\n",
    "# Perform the operations and print the results\n",
    "print(C + D)\n",
    "print(C - D)\n",
    "print(C * D)\n",
    "print(C / D)\n",
    "print(\"{:.2f}+0.00i\".format(C.modulus()))\n",
    "print(\"{:.2f}+0.00i\".format(D.modulus()))\n"
   ]
  },
  {
   "cell_type": "code",
   "execution_count": null,
   "id": "6436c230",
   "metadata": {},
   "outputs": [],
   "source": []
  }
 ],
 "metadata": {
  "kernelspec": {
   "display_name": "Python 3 (ipykernel)",
   "language": "python",
   "name": "python3"
  },
  "language_info": {
   "codemirror_mode": {
    "name": "ipython",
    "version": 3
   },
   "file_extension": ".py",
   "mimetype": "text/x-python",
   "name": "python",
   "nbconvert_exporter": "python",
   "pygments_lexer": "ipython3",
   "version": "3.10.9"
  }
 },
 "nbformat": 4,
 "nbformat_minor": 5
}
